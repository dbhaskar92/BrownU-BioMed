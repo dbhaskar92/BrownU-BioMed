{
 "cells": [
  {
   "cell_type": "code",
   "execution_count": 1,
   "metadata": {},
   "outputs": [],
   "source": [
    "import os\n",
    "import shutil\n",
    "import numpy as np\n",
    "import pandas as pd\n",
    "import matplotlib as mpl\n",
    "import matplotlib.pyplot as plt\n",
    "\n",
    "from mpl_toolkits import mplot3d\n",
    "from mpl_toolkits.mplot3d.art3d import Poly3DCollection"
   ]
  },
  {
   "cell_type": "markdown",
   "metadata": {},
   "source": [
    "#### Plot nuclei positions and velocity"
   ]
  },
  {
   "cell_type": "code",
   "execution_count": 2,
   "metadata": {},
   "outputs": [],
   "source": [
    "daystring = \"5\"\n",
    "spotstring = \"12\""
   ]
  },
  {
   "cell_type": "code",
   "execution_count": 3,
   "metadata": {
    "scrolled": false
   },
   "outputs": [],
   "source": [
    "show_quiver = True\n",
    "show_track = False\n",
    "\n",
    "fpath = \"YuLong_Data/day_\" + daystring + \"/\" + spotstring + \"spot.csv\"\n",
    "\n",
    "df = pd.read_csv(fpath)\n",
    "max_frame = np.max(list(df['FRAME']))\n",
    "max_xlim = np.ceil(np.max(df['POSITION_X'])) + 1\n",
    "max_ylim = np.ceil(np.max(df['POSITION_Y'])) + 1\n",
    "max_zlim = np.ceil(np.max(df['POSITION_Z'])) + 1\n",
    "min_xlim = np.floor(np.min(df['POSITION_X'])) - 1\n",
    "min_ylim = np.floor(np.min(df['POSITION_Y'])) - 1\n",
    "min_zlim = np.floor(np.min(df['POSITION_Z'])) - 1\n",
    "max_lim = np.max([max_xlim, max_ylim, max_zlim])\n",
    "min_lim = np.min([min_xlim, min_ylim, min_zlim])\n",
    "\n",
    "dirname = \"YuLong_Day\" + daystring + \"_Spot\" + spotstring\n",
    "odirname = dirname + \"_plots\"\n",
    "if os.path.isdir(odirname):\n",
    "    shutil.rmtree(odirname)\n",
    "    os.mkdir(odirname)\n",
    "else:\n",
    "    os.mkdir(odirname)\n",
    "\n",
    "for tp in range(1, max_frame+1):\n",
    "        \n",
    "    ipath = dirname + os.sep + \"YuLong_Day\" + daystring + \"_Spot\" + spotstring + \"_Frame\" + repr(tp) + \".npz\"\n",
    "    track_data = np.load(ipath)\n",
    "    \n",
    "    vpath = dirname + os.sep + \"YuLong_Day\" + daystring + \"_Spot\" + spotstring + \"_Velocity\" + repr(tp) + \".npz\"\n",
    "    vel_data = np.load(vpath)\n",
    "    \n",
    "    cell_pos = track_data[\"positions\"]\n",
    "    omega = vel_data[\"orientation\"]\n",
    "    \n",
    "    plt.figure(figsize=(5,4), dpi=200)\n",
    "    ax = plt.axes(projection='3d')\n",
    "    \n",
    "    ax.scatter3D(cell_pos[:,0], cell_pos[:,1], cell_pos[:,2], s=4, color='black')\n",
    "    \n",
    "    x_com = np.mean(cell_pos[:,0])\n",
    "    y_com = np.mean(cell_pos[:,1])\n",
    "    z_com = np.mean(cell_pos[:,2])\n",
    "    ax.quiver(x_com, y_com, z_com, omega[0], omega[1], omega[2], linewidth=1)\n",
    "    \n",
    "    for key in track_data.keys():\n",
    "        \n",
    "        if key == \"positions\":\n",
    "            continue\n",
    "        if key == \"lumen\":\n",
    "            continue\n",
    "            \n",
    "        cell_track = track_data[key]\n",
    "        x_pos = cell_track[:,0][::-1]\n",
    "        y_pos = cell_track[:,1][::-1]\n",
    "        z_pos = cell_track[:,2][::-1]\n",
    "        \n",
    "        if show_track:\n",
    "            ax.plot3D(x_pos, y_pos, z_pos, 'gray', linewidth=0.5)\n",
    "        \n",
    "        if show_quiver:\n",
    "            try:\n",
    "                cell_vel = vel_data[key]\n",
    "                ax.quiver(x_pos[-1], y_pos[-1], z_pos[-1], cell_vel[0], cell_vel[1], cell_vel[2], \n",
    "                          length=2, normalize=True, linewidth=0.5, color='blue')\n",
    "            except:\n",
    "                continue\n",
    "                \n",
    "        ax.text(x_pos[-1], y_pos[-1], z_pos[-1], key, color='red', fontsize=4)\n",
    "        \n",
    "    outfname = \"Frame\" + repr(tp).zfill(3) + \".png\"\n",
    "    outfullpath = odirname + os.sep + outfname\n",
    "    ax.set_xlim([min_lim, max_lim])\n",
    "    ax.set_ylim([min_lim, max_lim])\n",
    "    ax.set_zlim([min_lim, max_lim])\n",
    "    plt.title(\"Spot \" + spotstring)\n",
    "    plt.savefig(outfullpath)\n",
    "    plt.close()"
   ]
  },
  {
   "cell_type": "code",
   "execution_count": 4,
   "metadata": {},
   "outputs": [],
   "source": [
    "! cp make_png_movie.sh YuLong_Day5_Spot12_plots/"
   ]
  },
  {
   "cell_type": "markdown",
   "metadata": {},
   "source": [
    "#### Plot representative void"
   ]
  },
  {
   "cell_type": "code",
   "execution_count": 5,
   "metadata": {},
   "outputs": [],
   "source": [
    "dirname = \"YuLong_Day\" + daystring + \"_Spot\" + spotstring\n",
    "odirname = dirname + \"_lumen\"\n",
    "if os.path.isdir(odirname):\n",
    "    shutil.rmtree(odirname)\n",
    "    os.mkdir(odirname)\n",
    "else:\n",
    "    os.mkdir(odirname)\n",
    "\n",
    "for tp in range(1, max_frame+1):\n",
    "        \n",
    "    ipath = dirname + os.sep + \"YuLong_Day\" + daystring + \"_Spot\" + spotstring + \"_Frame\" + repr(tp) + \".npz\"\n",
    "    track_data = np.load(ipath)\n",
    "    \n",
    "    cell_pos = track_data[\"positions\"]\n",
    "    \n",
    "    lumen_exists = True\n",
    "    try:\n",
    "        \n",
    "        lumen_pts = track_data[\"lumen\"]\n",
    "        num_triangles = np.shape(lumen_pts)[1]\n",
    "        tri_data = np.zeros((num_triangles, 9))\n",
    "    \n",
    "        for tri in range(num_triangles):\n",
    "\n",
    "            idx1 = int(lumen_pts[0, tri])-1\n",
    "            idx2 = int(lumen_pts[1, tri])-1\n",
    "            idx3 = int(lumen_pts[2, tri])-1\n",
    "\n",
    "            coords = []\n",
    "            coords.extend(cell_pos[idx1])\n",
    "            coords.extend(cell_pos[idx2])\n",
    "            coords.extend(cell_pos[idx3])\n",
    "            tri_data[tri,:] = coords\n",
    "    \n",
    "        poly3d = [[tri_data[i, j*3:j*3+3] for j in range(3)] for i in range(num_triangles)]\n",
    "        fc = [\"blue\" for i in range(num_triangles)]\n",
    "        ec = [\"darkblue\" for i in range(num_triangles)]\n",
    "        \n",
    "    except:\n",
    "        lumen_exists = False\n",
    "    \n",
    "    fig = plt.figure(figsize=(5,4), dpi=200)\n",
    "    ax = fig.add_subplot(111, projection='3d')\n",
    "    \n",
    "    ax.scatter3D(cell_pos[:,0], cell_pos[:,1], cell_pos[:,2], s=4, color='black')\n",
    "    \n",
    "    if lumen_exists:\n",
    "        ax.add_collection3d(Poly3DCollection(poly3d, facecolors=fc, edgecolors=ec, \n",
    "                                             linewidths=0.3, linestyles=':', alpha=0.1))\n",
    "    \n",
    "    ax.set_xlim([min_lim, max_lim])\n",
    "    ax.set_ylim([min_lim, max_lim])\n",
    "    ax.set_zlim([min_lim, max_lim])\n",
    "    \n",
    "    ax.grid(False)\n",
    "    #plt.axis('off')\n",
    "    \n",
    "    outfname = \"Frame\" + repr(tp).zfill(3) + \".png\"\n",
    "    outfullpath = odirname + os.sep + outfname\n",
    "    plt.title(\"Spot \" + spotstring)\n",
    "    plt.savefig(outfullpath)\n",
    "    plt.close()"
   ]
  },
  {
   "cell_type": "code",
   "execution_count": 6,
   "metadata": {},
   "outputs": [],
   "source": [
    "! cp make_png_movie.sh YuLong_Day5_Spot12_lumen/"
   ]
  }
 ],
 "metadata": {
  "@webio": {
   "lastCommId": "6d4e7d10414945d19b3ee90031fa5ae7",
   "lastKernelId": "049872d1-247e-4411-9cf1-a1c47b06307f"
  },
  "kernelspec": {
   "display_name": "Python 3.6 TDA",
   "language": "python",
   "name": "py36"
  },
  "language_info": {
   "codemirror_mode": {
    "name": "ipython",
    "version": 3
   },
   "file_extension": ".py",
   "mimetype": "text/x-python",
   "name": "python",
   "nbconvert_exporter": "python",
   "pygments_lexer": "ipython3",
   "version": "3.6.10"
  }
 },
 "nbformat": 4,
 "nbformat_minor": 2
}
